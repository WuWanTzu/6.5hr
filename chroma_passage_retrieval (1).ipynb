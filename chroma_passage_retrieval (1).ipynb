{
 "cells": [
  {
   "cell_type": "markdown",
   "id": "4d3611d1",
   "metadata": {},
   "source": [
    "# ChromaDB - get_relevant_passage Function\n",
    "This notebook defines the required function for retrieving relevant passages from ChromaDB."
   ]
  },
  {
   "cell_type": "code",
   "execution_count": null,
   "id": "dd58819e",
   "metadata": {},
   "outputs": [],
   "source": [
    "def get_relevant_passage(query, db, n_results):\n",
    "    results = db.query(\n",
    "        query_texts=[query],\n",
    "        n_results=n_results\n",
    "    )\n",
    "    return results['documents'][0]"
   ]
  }
 ],
 "metadata": {
  "kernelspec": {
   "display_name": "Python 3",
   "name": "python3"
  }
 },
 "nbformat": 4,
 "nbformat_minor": 5
}