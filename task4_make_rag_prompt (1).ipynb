{
 "cells": [
  {
   "cell_type": "markdown",
   "id": "c5abc070",
   "metadata": {},
   "source": [
    "# Task 4: Construct the Prompt for the Generative Model\n",
    "\n",
    "This notebook implements the `make_rag_prompt(query, relevant_passages)` function as required by the task."
   ]
  },
  {
   "cell_type": "code",
   "execution_count": null,
   "id": "ab1b0e0d",
   "metadata": {},
   "outputs": [],
   "source": [
    "def make_rag_prompt(query, context_list):\n",
    "    context = \"\\n\".join(context_list)\n",
    "    prompt = f\"Based on the following information:\\n{context}\\n\\nPlease answer this question:\\n{query}\"\n",
    "    return prompt\n"
   ]
  },
  {
   "cell_type": "code",
   "execution_count": null,
   "id": "5a464913",
   "metadata": {},
   "outputs": [],
   "source": [
    "# Example test for the function\n",
    "query = \"萬有引力是什麼？\"\n",
    "context_list = [\n",
    "    \"任何兩質點中都會有彼此吸引的力，稱為萬有引力。\",\n",
    "    \"萬有引力又稱做重力。\"\n",
    "]\n",
    "\n",
    "rag_prompt = make_rag_prompt(query, context_list)\n",
    "print(rag_prompt)\n"
   ]
  }
 ],
 "metadata": {},
 "nbformat": 4,
 "nbformat_minor": 5
}